{
 "cells": [
  {
   "cell_type": "markdown",
   "metadata": {},
   "source": [
    "#### AOC Day 4\n",
    "\n",
    "https://adventofcode.com/2023/day/4"
   ]
  },
  {
   "cell_type": "code",
   "execution_count": 1,
   "metadata": {},
   "outputs": [],
   "source": [
    "# from data.four import test_data\n",
    "import numpy as np\n",
    "test_data = '''Card 1: 41 48 83 86 17 | 83 86  6 31 17  9 48 53\n",
    "Card 2: 13 32 20 16 61 | 61 30 68 82 17 32 24 19\n",
    "Card 3:  1 21 53 59 44 | 69 82 63 72 16 21 14  1\n",
    "Card 4: 41 92 73 84 69 | 59 84 76 51 58  5 54 83\n",
    "Card 5: 87 83 26 28 32 | 88 30 70 12 93 22 82 36\n",
    "Card 6: 31 18 13 56 72 | 74 77 10 23 35 67 36 11\n",
    "'''"
   ]
  },
  {
   "cell_type": "code",
   "execution_count": 2,
   "metadata": {},
   "outputs": [
    {
     "data": {
      "text/plain": [
       "array([1., 1., 1., 1., 1., 1.])"
      ]
     },
     "execution_count": 2,
     "metadata": {},
     "output_type": "execute_result"
    }
   ],
   "source": [
    "n_tickets = len(test_data.splitlines())\n",
    "copy_array = np.ones(n_tickets)\n",
    "copy_array"
   ]
  },
  {
   "cell_type": "code",
   "execution_count": 5,
   "metadata": {},
   "outputs": [
    {
     "name": "stdout",
     "output_type": "stream",
     "text": [
      "13\n"
     ]
    }
   ],
   "source": [
    "n_copies = 1\n",
    "game_points = []\n",
    "for line_num, line in enumerate(test_data.splitlines()):\n",
    "    card_index_str = line.split('Card ')[1].split(':')[0]\n",
    "    card_index = int(card_index_str)\n",
    "    winning_num_str, my_num_str = line.split(':')[1].split('|')\n",
    "    winning_num = [int(x) for x in winning_num_str.split(' ') if x.isnumeric()]\n",
    "    my_nums = [int(x) for x in my_num_str.split(' ') if x.isnumeric()]\n",
    "    n_matches = sum([1 for my_num in my_nums if my_num in winning_num])\n",
    "    if n_matches > 0:\n",
    "        match_list_power = 2 ** (n_matches - 1)\n",
    "        game_points.append(match_list_power)\n",
    "        if n_copies > 1:\n",
    "            for j in range(game_points):\n",
    "                if j+1 <= n_tickets:\n",
    "                    copy_array[line_num+j+1]+=1\n",
    "            \n",
    "print(sum(game_points))\n"
   ]
  },
  {
   "cell_type": "code",
   "execution_count": 6,
   "metadata": {},
   "outputs": [
    {
     "data": {
      "text/plain": [
       "array([1., 2., 3., 4., 3., 1.])"
      ]
     },
     "execution_count": 6,
     "metadata": {},
     "output_type": "execute_result"
    }
   ],
   "source": [
    "copy_array"
   ]
  },
  {
   "cell_type": "code",
   "execution_count": null,
   "metadata": {},
   "outputs": [],
   "source": []
  }
 ],
 "metadata": {
  "kernelspec": {
   "display_name": "tensorflow",
   "language": "python",
   "name": "python3"
  },
  "language_info": {
   "codemirror_mode": {
    "name": "ipython",
    "version": 3
   },
   "file_extension": ".py",
   "mimetype": "text/x-python",
   "name": "python",
   "nbconvert_exporter": "python",
   "pygments_lexer": "ipython3",
   "version": "3.11.0"
  }
 },
 "nbformat": 4,
 "nbformat_minor": 2
}
