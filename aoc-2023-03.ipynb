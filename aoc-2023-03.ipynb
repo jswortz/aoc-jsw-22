{
 "cells": [
  {
   "cell_type": "markdown",
   "id": "d6eb2da0-d32b-4fea-8587-9bd213770cfa",
   "metadata": {},
   "source": [
    "## Advent of Code\n",
    "[Day 3, 2023, part 1](https://adventofcode.com/2023/day/3)"
   ]
  },
  {
   "cell_type": "code",
   "execution_count": 1,
   "id": "5b73c934-fdc1-4f83-a4c8-fec6f42e2bcf",
   "metadata": {
    "tags": []
   },
   "outputs": [],
   "source": [
    "test_input = '''\n",
    "467..114..\n",
    "...*......\n",
    "..35..633.\n",
    "......#...\n",
    "617*......\n",
    ".....+.58.\n",
    "..592.....\n",
    "......755.\n",
    "...$.*....\n",
    ".664.598..\n",
    "'''"
   ]
  },
  {
   "cell_type": "code",
   "execution_count": 2,
   "id": "055d672d-4849-4a27-a91b-4af85ac93612",
   "metadata": {
    "tags": []
   },
   "outputs": [],
   "source": [
    "import numpy as np\n",
    "import re"
   ]
  },
  {
   "cell_type": "code",
   "execution_count": 3,
   "id": "1afab851-132e-4f7a-9c46-a99df86ea189",
   "metadata": {
    "tags": []
   },
   "outputs": [
    {
     "data": {
      "text/plain": [
       "array([['4', '6', '7', '.', '.', '1', '1', '4', '.', '.'],\n",
       "       ['.', '.', '.', '*', '.', '.', '.', '.', '.', '.'],\n",
       "       ['.', '.', '3', '5', '.', '.', '6', '3', '3', '.'],\n",
       "       ['.', '.', '.', '.', '.', '.', '#', '.', '.', '.'],\n",
       "       ['6', '1', '7', '*', '.', '.', '.', '.', '.', '.'],\n",
       "       ['.', '.', '.', '.', '.', '+', '.', '5', '8', '.'],\n",
       "       ['.', '.', '5', '9', '2', '.', '.', '.', '.', '.'],\n",
       "       ['.', '.', '.', '.', '.', '.', '7', '5', '5', '.'],\n",
       "       ['.', '.', '.', '$', '.', '*', '.', '.', '.', '.'],\n",
       "       ['.', '6', '6', '4', '.', '5', '9', '8', '.', '.']], dtype='<U1')"
      ]
     },
     "execution_count": 3,
     "metadata": {},
     "output_type": "execute_result"
    }
   ],
   "source": [
    "# add a delimiter for the one-char columns:\n",
    "def get_numpy_array_from_text_input(text_input: str) -> np.array:\n",
    "    output_matrix = []\n",
    "    row_holder = []\n",
    "    for line in text_input.splitlines():\n",
    "        for char in line:\n",
    "            row_holder.append(char)\n",
    "        output_matrix.append(row_holder)\n",
    "        row_holder = []\n",
    "\n",
    "    return np.array(output_matrix[1:])\n",
    "\n",
    "char_matrix = get_numpy_array_from_text_input(test_input)\n",
    "char_matrix\n"
   ]
  },
  {
   "cell_type": "code",
   "execution_count": 4,
   "id": "0624f35e-9fc5-4d90-8eb3-b10d5d601584",
   "metadata": {
    "tags": []
   },
   "outputs": [
    {
     "name": "stdout",
     "output_type": "stream",
     "text": [
      "shape of data:  10 10\n"
     ]
    }
   ],
   "source": [
    "x, y = char_matrix.shape\n",
    "print(\"shape of data: \", x, y)"
   ]
  },
  {
   "cell_type": "code",
   "execution_count": 5,
   "id": "23e407a4-f8b9-4325-9994-1fbc804a6236",
   "metadata": {
    "tags": []
   },
   "outputs": [
    {
     "data": {
      "text/plain": [
       "array([['4', '6', '7', '.', '.', '1', '1', '4', '.', '.'],\n",
       "       ['.', '.', '.', '*', '.', '.', '.', '.', '.', '.'],\n",
       "       ['.', '.', '3', '5', '.', '.', '6', '3', '3', '.'],\n",
       "       ['.', '.', '.', '.', '.', '.', '#', '.', '.', '.'],\n",
       "       ['6', '1', '7', '*', '.', '.', '.', '.', '.', '.'],\n",
       "       ['.', '.', '.', '.', '.', '+', '.', '5', '8', '.'],\n",
       "       ['.', '.', '5', '9', '2', '.', '.', '.', '.', '.'],\n",
       "       ['.', '.', '.', '.', '.', '.', '7', '5', '5', '.'],\n",
       "       ['.', '.', '.', '$', '.', '*', '.', '.', '.', '.'],\n",
       "       ['.', '6', '6', '4', '.', '5', '9', '8', '.', '.']], dtype='<U1')"
      ]
     },
     "execution_count": 5,
     "metadata": {},
     "output_type": "execute_result"
    }
   ],
   "source": [
    "char_matrix"
   ]
  },
  {
   "cell_type": "code",
   "execution_count": 6,
   "id": "de7dde73",
   "metadata": {},
   "outputs": [],
   "source": [
    "def get_char_re_mask(character_matrix: np.array, reg_expr: str) -> np.array:\n",
    "    special_character_re = re.compile(reg_expr) #not a digit and not a period\n",
    "    special_character_re_match = np.vectorize(lambda x:bool(special_character_re.match(x)))\n",
    "    #get the digit mask\n",
    "    special_char_bool_mask = special_character_re_match(character_matrix)\n",
    "    return special_char_bool_mask"
   ]
  },
  {
   "cell_type": "code",
   "execution_count": 7,
   "id": "9b91520b",
   "metadata": {},
   "outputs": [
    {
     "data": {
      "text/plain": [
       "array([[False, False, False, False, False, False, False, False, False,\n",
       "        False],\n",
       "       [False, False, False,  True, False, False, False, False, False,\n",
       "        False],\n",
       "       [False, False, False, False, False, False, False, False, False,\n",
       "        False],\n",
       "       [False, False, False, False, False, False,  True, False, False,\n",
       "        False],\n",
       "       [False, False, False,  True, False, False, False, False, False,\n",
       "        False],\n",
       "       [False, False, False, False, False,  True, False, False, False,\n",
       "        False],\n",
       "       [False, False, False, False, False, False, False, False, False,\n",
       "        False],\n",
       "       [False, False, False, False, False, False, False, False, False,\n",
       "        False],\n",
       "       [False, False, False,  True, False,  True, False, False, False,\n",
       "        False],\n",
       "       [False, False, False, False, False, False, False, False, False,\n",
       "        False]])"
      ]
     },
     "execution_count": 7,
     "metadata": {},
     "output_type": "execute_result"
    }
   ],
   "source": [
    "special_char_bool_mask = get_char_re_mask(char_matrix, '(?=[^0-9])(?=[^.])')\n",
    "special_char_bool_mask"
   ]
  },
  {
   "cell_type": "markdown",
   "id": "0e2e405b",
   "metadata": {},
   "source": [
    "### Get masks by different `re` matches"
   ]
  },
  {
   "cell_type": "code",
   "execution_count": 8,
   "id": "2ee9cc2b",
   "metadata": {},
   "outputs": [
    {
     "data": {
      "text/plain": [
       "array([[ True,  True,  True, False, False,  True,  True,  True, False,\n",
       "        False],\n",
       "       [False, False, False, False, False, False, False, False, False,\n",
       "        False],\n",
       "       [False, False,  True,  True, False, False,  True,  True,  True,\n",
       "        False],\n",
       "       [False, False, False, False, False, False, False, False, False,\n",
       "        False],\n",
       "       [ True,  True,  True, False, False, False, False, False, False,\n",
       "        False],\n",
       "       [False, False, False, False, False, False, False,  True,  True,\n",
       "        False],\n",
       "       [False, False,  True,  True,  True, False, False, False, False,\n",
       "        False],\n",
       "       [False, False, False, False, False, False,  True,  True,  True,\n",
       "        False],\n",
       "       [False, False, False, False, False, False, False, False, False,\n",
       "        False],\n",
       "       [False,  True,  True,  True, False,  True,  True,  True, False,\n",
       "        False]])"
      ]
     },
     "execution_count": 8,
     "metadata": {},
     "output_type": "execute_result"
    }
   ],
   "source": [
    "num_bool_mask = get_char_re_mask(char_matrix, '\\d')\n",
    "num_bool_mask"
   ]
  },
  {
   "cell_type": "markdown",
   "id": "a4daeb58",
   "metadata": {},
   "source": [
    "### **NEW PT II** Gear"
   ]
  },
  {
   "cell_type": "code",
   "execution_count": 9,
   "id": "7b7b73c1",
   "metadata": {},
   "outputs": [
    {
     "data": {
      "text/plain": [
       "array([[False, False, False, False, False, False, False, False, False,\n",
       "        False],\n",
       "       [False, False, False,  True, False, False, False, False, False,\n",
       "        False],\n",
       "       [False, False, False, False, False, False, False, False, False,\n",
       "        False],\n",
       "       [False, False, False, False, False, False, False, False, False,\n",
       "        False],\n",
       "       [False, False, False,  True, False, False, False, False, False,\n",
       "        False],\n",
       "       [False, False, False, False, False, False, False, False, False,\n",
       "        False],\n",
       "       [False, False, False, False, False, False, False, False, False,\n",
       "        False],\n",
       "       [False, False, False, False, False, False, False, False, False,\n",
       "        False],\n",
       "       [False, False, False, False, False,  True, False, False, False,\n",
       "        False],\n",
       "       [False, False, False, False, False, False, False, False, False,\n",
       "        False]])"
      ]
     },
     "execution_count": 9,
     "metadata": {},
     "output_type": "execute_result"
    }
   ],
   "source": [
    "gear_bool_mask = get_char_re_mask(char_matrix, '\\*')\n",
    "gear_bool_mask "
   ]
  },
  {
   "cell_type": "code",
   "execution_count": 10,
   "id": "27c21705-d079-4809-a2fa-25a48dbee385",
   "metadata": {
    "tags": []
   },
   "outputs": [
    {
     "data": {
      "text/plain": [
       "array([[False, False, False, False, False, False, False, False, False,\n",
       "        False],\n",
       "       [False, False, False, False, False, False, False, False, False,\n",
       "        False],\n",
       "       [False, False, False, False, False, False, False, False, False,\n",
       "        False],\n",
       "       [False, False, False, False, False, False, False, False, False,\n",
       "        False],\n",
       "       [False, False, False, False, False, False, False, False, False,\n",
       "        False],\n",
       "       [False, False, False, False, False, False, False, False, False,\n",
       "        False],\n",
       "       [False, False, False, False, False, False, False, False, False,\n",
       "        False],\n",
       "       [False, False, False, False, False, False, False, False, False,\n",
       "        False],\n",
       "       [False, False, False, False, False, False, False, False, False,\n",
       "        False],\n",
       "       [False, False, False, False, False, False, False, False, False,\n",
       "        False]])"
      ]
     },
     "execution_count": 10,
     "metadata": {},
     "output_type": "execute_result"
    }
   ],
   "source": [
    "#create an empty \"truth\" array\n",
    "bloom_mask = [[False]*x]*y\n",
    "bloom_mask = np.array(bloom_mask)\n",
    "bloom_mask"
   ]
  },
  {
   "cell_type": "code",
   "execution_count": 12,
   "id": "e94520be-d18e-4fc5-abc2-2db707cc3132",
   "metadata": {
    "tags": []
   },
   "outputs": [],
   "source": [
    "# create a bloom ... if true in l/r/u/d/diag then true ->\n",
    "from typing import Tuple, List\n",
    "\n",
    "def create_bloom_matrix_from_edges(bool_matrix: np.array) -> (np.array\n",
    "                                                              , List[Tuple[int, int]]):\n",
    "    x, y = bool_matrix.shape\n",
    "    bloom_mask = [[False]*x]*y\n",
    "    bloom_mask = np.array(bloom_mask)\n",
    "    coords = []\n",
    "    \n",
    "    for i in range(x):\n",
    "        for j in range(y):\n",
    "            if bool_matrix[i,j]:\n",
    "                coords.append((i, j))\n",
    "                try:\n",
    "                    bloom_mask[i-1,j] = True\n",
    "                except:\n",
    "                    print('*')\n",
    "                try:\n",
    "                    bloom_mask[i+1,j] = True\n",
    "                except:\n",
    "                    print('*')\n",
    "                try:\n",
    "                    bloom_mask[i,j-1] = True\n",
    "                except:\n",
    "                    print('*')\n",
    "                try:\n",
    "                    bloom_mask[i,j+1] = True\n",
    "                except:\n",
    "                    print('*')\n",
    "                try:\n",
    "                    bloom_mask[i-1,j-1] = True\n",
    "                except:\n",
    "                    print('*')\n",
    "                try:\n",
    "                    bloom_mask[i+1,j+1] = True\n",
    "                except:\n",
    "                    print('*')\n",
    "                try:\n",
    "                    bloom_mask[i+1,j-1] = True\n",
    "                except:\n",
    "                    print('*')\n",
    "                try:\n",
    "                    bloom_mask[i-1,j+1] = True\n",
    "                except:\n",
    "                    print('*')\n",
    "\n",
    "    return(bloom_mask, coords)\n",
    "\n",
    "special_character_bloom_boolean_filter, coords = create_bloom_matrix_from_edges(special_char_bool_mask)"
   ]
  },
  {
   "cell_type": "code",
   "execution_count": 14,
   "id": "7a9e5758-8a8e-4177-8b3b-65e943ef122f",
   "metadata": {
    "tags": []
   },
   "outputs": [],
   "source": [
    "#New \n",
    "gear_bloom_boolean_filter, gear_coords = create_bloom_matrix_from_edges(gear_bool_mask)"
   ]
  },
  {
   "cell_type": "code",
   "execution_count": 15,
   "id": "609387f0-ba43-408c-9174-6f1629534705",
   "metadata": {
    "tags": []
   },
   "outputs": [],
   "source": [
    "from typing import Tuple, List\n",
    "\n",
    "def get_number_tuples_from_bloom(special_character_bloom_boolean_filter: np.array\n",
    "                                 , char_matrix: np.array\n",
    "                                 , num_bool_mask:np.array\n",
    "                                 , gear_character_bloom_boolean_filter: np.array):\n",
    "# -> List[Tuple[int,bool, Tuple[Tuple[int,int], int]]]:\n",
    "    list_o_numbers = []\n",
    "    str_num = ''\n",
    "    truth_accumulator = False\n",
    "    truth_accumulator_gear = False\n",
    "    start_pos = 0\n",
    "\n",
    "    x, y = special_character_bloom_boolean_filter.shape\n",
    "    for i in range(x):\n",
    "        for j in range(y):\n",
    "            if j < y-1:\n",
    "                if num_bool_mask[i, j] and num_bool_mask[i, j+1]:\n",
    "                    if str_num == '':\n",
    "                        start_pos=j\n",
    "                    truth_accumulator = truth_accumulator or special_character_bloom_boolean_filter[i,j]\n",
    "                    truth_accumulator_gear = truth_accumulator_gear or gear_character_bloom_boolean_filter[i,j]\n",
    "                    str_num+=char_matrix[i,j]\n",
    "                if num_bool_mask[i, j] and not num_bool_mask[i, j+1]:\n",
    "                    if str_num == '':\n",
    "                        start_pos=j\n",
    "                    truth_accumulator = truth_accumulator or special_character_bloom_boolean_filter[i,j]\n",
    "                    truth_accumulator_gear = truth_accumulator_gear or gear_character_bloom_boolean_filter[i,j]\n",
    "                    str_num+=char_matrix[i,j]\n",
    "                    list_o_numbers.append((int(str_num), truth_accumulator, ((start_pos), j), i, truth_accumulator_gear))\n",
    "                    str_num = ''\n",
    "                    truth_accumulator = False\n",
    "                    truth_accumulator_gear = False\n",
    "                    \n",
    "            else:\n",
    "                if str_num != '':\n",
    "                    truth_accumulator = truth_accumulator or special_character_bloom_boolean_filter[i,j]\n",
    "                    truth_accumulator_gear = truth_accumulator_gear or gear_character_bloom_boolean_filter[i,j]\n",
    "                    truth_accumulator_gear = truth_accumulator_gear or gear_character_bloom_boolean_filter[i,j]\n",
    "                    str_num+=char_matrix[i,j]\n",
    "                    list_o_numbers.append((int(str_num), truth_accumulator, ((start_pos), j), i, truth_accumulator_gear))\n",
    "                    str_num = ''\n",
    "                    truth_accumulator = False\n",
    "                    truth_accumulator_gear = False\n",
    "                    \n",
    "    return list_o_numbers\n",
    "\n",
    "list_o_numbers = get_number_tuples_from_bloom(special_character_bloom_boolean_filter\n",
    "                                              , char_matrix\n",
    "                                              , num_bool_mask\n",
    "                                              , gear_bloom_boolean_filter)"
   ]
  },
  {
   "cell_type": "code",
   "execution_count": 16,
   "id": "46045b10-1822-40dd-a551-4c5a361da53c",
   "metadata": {
    "tags": []
   },
   "outputs": [
    {
     "data": {
      "text/plain": [
       "[(467, True, (0, 2), 0, True),\n",
       " (114, False, (5, 7), 0, False),\n",
       " (35, True, (2, 3), 2, True),\n",
       " (633, True, (6, 8), 2, False),\n",
       " (617, True, (0, 2), 4, True),\n",
       " (58, False, (7, 8), 5, False),\n",
       " (592, True, (2, 4), 6, False),\n",
       " (755, True, (6, 8), 7, True),\n",
       " (664, True, (1, 3), 9, False),\n",
       " (598, True, (5, 7), 9, True)]"
      ]
     },
     "execution_count": 16,
     "metadata": {},
     "output_type": "execute_result"
    }
   ],
   "source": [
    "list_o_numbers"
   ]
  },
  {
   "cell_type": "code",
   "execution_count": 18,
   "id": "6b2f10a5",
   "metadata": {},
   "outputs": [],
   "source": [
    "gear_coords\n",
    "gear_dict = {}\n",
    "\n",
    "for value, filter, y_range, x_lim, gear_filter in list_o_numbers:\n",
    "    if gear_filter:\n",
    "        y1, y2 = y_range\n",
    "        closest_gear = [(x, y) for x, y in gear_coords if y>=y1-1 and y<=y2+1 and x>=x_lim-1 and x<=x_lim+1]\n",
    "        closest_gear_string = str(f\"{closest_gear[0][0]}_{closest_gear[0][1]}\")\n",
    "        if closest_gear_string not in gear_dict:\n",
    "            gear_dict.update({closest_gear_string: [value]})\n",
    "        else:\n",
    "            gear_dict[closest_gear_string].append(value)"
   ]
  },
  {
   "cell_type": "code",
   "execution_count": 19,
   "id": "b77e86d5",
   "metadata": {},
   "outputs": [
    {
     "data": {
      "text/plain": [
       "{'1_3': [467, 35], '4_3': [617], '8_5': [755, 598]}"
      ]
     },
     "execution_count": 19,
     "metadata": {},
     "output_type": "execute_result"
    }
   ],
   "source": [
    "gear_dict"
   ]
  },
  {
   "cell_type": "code",
   "execution_count": 20,
   "id": "c94d273e",
   "metadata": {},
   "outputs": [
    {
     "data": {
      "text/plain": [
       "467835"
      ]
     },
     "execution_count": 20,
     "metadata": {},
     "output_type": "execute_result"
    }
   ],
   "source": [
    "# multiply then sum the gear_coords\n",
    "from typing import Dict \n",
    "\n",
    "def get_gear_total_from_gear_dict(gear_dict: Dict) -> int:\n",
    "    gear_total = 0\n",
    "    for k in gear_dict.keys():\n",
    "        elem = gear_dict[k]\n",
    "        if len(elem) > 1:\n",
    "            prod = np.prod(tuple(elem))\n",
    "            gear_total+=prod\n",
    "    return(gear_total)\n",
    "\n",
    "\n",
    "gear_total = get_gear_total_from_gear_dict(gear_dict)\n",
    "gear_total"
   ]
  },
  {
   "cell_type": "markdown",
   "id": "53e421cf-7167-4faa-9038-a2202aad384e",
   "metadata": {},
   "source": [
    "#### quick sum where there's an overlap with \"bloomed\" truth values where there's a special character in the matrix"
   ]
  },
  {
   "cell_type": "code",
   "execution_count": 21,
   "id": "18ae792c-da71-46a7-a1b8-27435fdf125d",
   "metadata": {
    "tags": []
   },
   "outputs": [],
   "source": [
    "non_gear_total = sum([value for value, filter, _, _, gear_filter in list_o_numbers if filter and not gear_filter])"
   ]
  },
  {
   "cell_type": "code",
   "execution_count": 22,
   "id": "78af2e36",
   "metadata": {},
   "outputs": [
    {
     "data": {
      "text/plain": [
       "469724"
      ]
     },
     "execution_count": 22,
     "metadata": {},
     "output_type": "execute_result"
    }
   ],
   "source": [
    "gear_total + non_gear_total"
   ]
  },
  {
   "cell_type": "markdown",
   "id": "272dcd7d-0be7-477e-81ff-6e5c52b9ce7d",
   "metadata": {},
   "source": [
    "### Now for the soluition?"
   ]
  }
 ],
 "metadata": {
  "environment": {
   "kernel": "conda-env-tensorflow-tensorflow",
   "name": "workbench-notebooks.m113",
   "type": "gcloud",
   "uri": "gcr.io/deeplearning-platform-release/workbench-notebooks:m113"
  },
  "kernelspec": {
   "display_name": "tensorflow",
   "language": "python",
   "name": "python3"
  },
  "language_info": {
   "codemirror_mode": {
    "name": "ipython",
    "version": 3
   },
   "file_extension": ".py",
   "mimetype": "text/x-python",
   "name": "python",
   "nbconvert_exporter": "python",
   "pygments_lexer": "ipython3",
   "version": "3.11.0"
  }
 },
 "nbformat": 4,
 "nbformat_minor": 5
}
