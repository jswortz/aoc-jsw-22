{
 "cells": [
  {
   "cell_type": "markdown",
   "id": "d6eb2da0-d32b-4fea-8587-9bd213770cfa",
   "metadata": {},
   "source": [
    "## Advent of Code\n",
    "[Day 3, 2023, part 1](https://adventofcode.com/2023/day/3)"
   ]
  },
  {
   "cell_type": "code",
   "execution_count": 1,
   "id": "5b73c934-fdc1-4f83-a4c8-fec6f42e2bcf",
   "metadata": {
    "tags": []
   },
   "outputs": [],
   "source": [
    "test_input = '''\n",
    "467..114..\n",
    "...*......\n",
    "..35..633.\n",
    "......#...\n",
    "617*......\n",
    ".....+.58.\n",
    "..592.....\n",
    "......755.\n",
    "...$.*....\n",
    ".664.598..\n",
    "'''"
   ]
  },
  {
   "cell_type": "code",
   "execution_count": 2,
   "id": "055d672d-4849-4a27-a91b-4af85ac93612",
   "metadata": {
    "tags": []
   },
   "outputs": [],
   "source": [
    "import numpy as np"
   ]
  },
  {
   "cell_type": "code",
   "execution_count": 3,
   "id": "1afab851-132e-4f7a-9c46-a99df86ea189",
   "metadata": {
    "tags": []
   },
   "outputs": [
    {
     "data": {
      "text/plain": [
       "array([['4', '6', '7', '.', '.', '1', '1', '4', '.', '.'],\n",
       "       ['.', '.', '.', '*', '.', '.', '.', '.', '.', '.'],\n",
       "       ['.', '.', '3', '5', '.', '.', '6', '3', '3', '.'],\n",
       "       ['.', '.', '.', '.', '.', '.', '#', '.', '.', '.'],\n",
       "       ['6', '1', '7', '*', '.', '.', '.', '.', '.', '.'],\n",
       "       ['.', '.', '.', '.', '.', '+', '.', '5', '8', '.'],\n",
       "       ['.', '.', '5', '9', '2', '.', '.', '.', '.', '.'],\n",
       "       ['.', '.', '.', '.', '.', '.', '7', '5', '5', '.'],\n",
       "       ['.', '.', '.', '$', '.', '*', '.', '.', '.', '.'],\n",
       "       ['.', '6', '6', '4', '.', '5', '9', '8', '.', '.']], dtype='<U1')"
      ]
     },
     "execution_count": 3,
     "metadata": {},
     "output_type": "execute_result"
    }
   ],
   "source": [
    "# add a delimiter for the one-char columns:\n",
    "def get_numpy_array_from_text_input(text_input: str) -> np.array:\n",
    "    output_matrix = []\n",
    "    row_holder = []\n",
    "    for line in text_input.splitlines():\n",
    "        for char in line:\n",
    "            row_holder.append(char)\n",
    "        output_matrix.append(row_holder)\n",
    "        row_holder = []\n",
    "\n",
    "    return np.array(output_matrix[1:])\n",
    "\n",
    "char_matrix = get_numpy_array_from_text_input(test_input)\n",
    "char_matrix\n"
   ]
  },
  {
   "cell_type": "code",
   "execution_count": 4,
   "id": "0624f35e-9fc5-4d90-8eb3-b10d5d601584",
   "metadata": {
    "tags": []
   },
   "outputs": [
    {
     "name": "stdout",
     "output_type": "stream",
     "text": [
      "shape of data:  10 10\n"
     ]
    }
   ],
   "source": [
    "x, y = char_matrix.shape\n",
    "print(\"shape of data: \", x, y)"
   ]
  },
  {
   "cell_type": "code",
   "execution_count": 5,
   "id": "1eb7c905-9c8b-410f-89d6-9aecf04937b9",
   "metadata": {
    "tags": []
   },
   "outputs": [
    {
     "data": {
      "text/plain": [
       "array([[ True,  True,  True, False, False,  True,  True,  True, False,\n",
       "        False],\n",
       "       [False, False, False, False, False, False, False, False, False,\n",
       "        False],\n",
       "       [False, False,  True,  True, False, False,  True,  True,  True,\n",
       "        False],\n",
       "       [False, False, False, False, False, False, False, False, False,\n",
       "        False],\n",
       "       [ True,  True,  True, False, False, False, False, False, False,\n",
       "        False],\n",
       "       [False, False, False, False, False, False, False,  True,  True,\n",
       "        False],\n",
       "       [False, False,  True,  True,  True, False, False, False, False,\n",
       "        False],\n",
       "       [False, False, False, False, False, False,  True,  True,  True,\n",
       "        False],\n",
       "       [False, False, False, False, False, False, False, False, False,\n",
       "        False],\n",
       "       [False,  True,  True,  True, False,  True,  True,  True, False,\n",
       "        False]])"
      ]
     },
     "execution_count": 5,
     "metadata": {},
     "output_type": "execute_result"
    }
   ],
   "source": [
    "import re\n",
    "\n",
    "digit_re = re.compile('[0-9]')\n",
    "number_re_match = np.vectorize(lambda x:bool(digit_re.match(x)))\n",
    "#get the digit mask\n",
    "num_bool_mask = number_re_match(char_matrix)\n",
    "num_bool_mask"
   ]
  },
  {
   "cell_type": "code",
   "execution_count": 6,
   "id": "23e407a4-f8b9-4325-9994-1fbc804a6236",
   "metadata": {
    "tags": []
   },
   "outputs": [
    {
     "data": {
      "text/plain": [
       "array([['4', '6', '7', '.', '.', '1', '1', '4', '.', '.'],\n",
       "       ['.', '.', '.', '*', '.', '.', '.', '.', '.', '.'],\n",
       "       ['.', '.', '3', '5', '.', '.', '6', '3', '3', '.'],\n",
       "       ['.', '.', '.', '.', '.', '.', '#', '.', '.', '.'],\n",
       "       ['6', '1', '7', '*', '.', '.', '.', '.', '.', '.'],\n",
       "       ['.', '.', '.', '.', '.', '+', '.', '5', '8', '.'],\n",
       "       ['.', '.', '5', '9', '2', '.', '.', '.', '.', '.'],\n",
       "       ['.', '.', '.', '.', '.', '.', '7', '5', '5', '.'],\n",
       "       ['.', '.', '.', '$', '.', '*', '.', '.', '.', '.'],\n",
       "       ['.', '6', '6', '4', '.', '5', '9', '8', '.', '.']], dtype='<U1')"
      ]
     },
     "execution_count": 6,
     "metadata": {},
     "output_type": "execute_result"
    }
   ],
   "source": [
    "char_matrix"
   ]
  },
  {
   "cell_type": "code",
   "execution_count": 7,
   "id": "21a5d2e8-4582-4798-8740-8aa44717873a",
   "metadata": {
    "tags": []
   },
   "outputs": [
    {
     "data": {
      "text/plain": [
       "array([[False, False, False, False, False, False, False, False, False,\n",
       "        False],\n",
       "       [False, False, False,  True, False, False, False, False, False,\n",
       "        False],\n",
       "       [False, False, False, False, False, False, False, False, False,\n",
       "        False],\n",
       "       [False, False, False, False, False, False,  True, False, False,\n",
       "        False],\n",
       "       [False, False, False,  True, False, False, False, False, False,\n",
       "        False],\n",
       "       [False, False, False, False, False,  True, False, False, False,\n",
       "        False],\n",
       "       [False, False, False, False, False, False, False, False, False,\n",
       "        False],\n",
       "       [False, False, False, False, False, False, False, False, False,\n",
       "        False],\n",
       "       [False, False, False,  True, False,  True, False, False, False,\n",
       "        False],\n",
       "       [False, False, False, False, False, False, False, False, False,\n",
       "        False]])"
      ]
     },
     "execution_count": 7,
     "metadata": {},
     "output_type": "execute_result"
    }
   ],
   "source": [
    "special_character_re = re.compile('(?=[^0-9])(?=[^.])') #not a digit and not a period\n",
    "special_character_re_match = np.vectorize(lambda x:bool(special_character_re.match(x)))\n",
    "#get the digit mask\n",
    "special_char_bool_mask = special_character_re_match(char_matrix)\n",
    "special_char_bool_mask"
   ]
  },
  {
   "cell_type": "code",
   "execution_count": 8,
   "id": "27c21705-d079-4809-a2fa-25a48dbee385",
   "metadata": {
    "tags": []
   },
   "outputs": [
    {
     "data": {
      "text/plain": [
       "array([[False, False, False, False, False, False, False, False, False,\n",
       "        False],\n",
       "       [False, False, False, False, False, False, False, False, False,\n",
       "        False],\n",
       "       [False, False, False, False, False, False, False, False, False,\n",
       "        False],\n",
       "       [False, False, False, False, False, False, False, False, False,\n",
       "        False],\n",
       "       [False, False, False, False, False, False, False, False, False,\n",
       "        False],\n",
       "       [False, False, False, False, False, False, False, False, False,\n",
       "        False],\n",
       "       [False, False, False, False, False, False, False, False, False,\n",
       "        False],\n",
       "       [False, False, False, False, False, False, False, False, False,\n",
       "        False],\n",
       "       [False, False, False, False, False, False, False, False, False,\n",
       "        False],\n",
       "       [False, False, False, False, False, False, False, False, False,\n",
       "        False]])"
      ]
     },
     "execution_count": 8,
     "metadata": {},
     "output_type": "execute_result"
    }
   ],
   "source": [
    "#create an empty array\n",
    "bloom_mask = [[False]*x]*y\n",
    "bloom_mask = np.array(bloom_mask)\n",
    "bloom_mask"
   ]
  },
  {
   "cell_type": "code",
   "execution_count": 9,
   "id": "e94520be-d18e-4fc5-abc2-2db707cc3132",
   "metadata": {
    "tags": []
   },
   "outputs": [],
   "source": [
    "# manually do it again - create a bloom ... if true in l/r/u/d/diag then true ->\n",
    "\n",
    "\n",
    "def create_bloom_matrix_from_edges(bool_matrix):\n",
    "    x, y = bool_matrix.shape\n",
    "    bloom_mask = [[False]*x]*y\n",
    "    bloom_mask = np.array(bloom_mask)\n",
    "    \n",
    "    for i in range(x):\n",
    "        for j in range(y):\n",
    "            if bool_matrix[i,j]:\n",
    "                try:\n",
    "                    bloom_mask[i-1,j] = True\n",
    "                except:\n",
    "                    print('*')\n",
    "                try:\n",
    "                    bloom_mask[i+1,j] = True\n",
    "                except:\n",
    "                    print('*')\n",
    "                try:\n",
    "                    bloom_mask[i,j-1] = True\n",
    "                except:\n",
    "                    print('*')\n",
    "                try:\n",
    "                    bloom_mask[i,j+1] = True\n",
    "                except:\n",
    "                    print('*')\n",
    "                try:\n",
    "                    bloom_mask[i-1,j-1] = True\n",
    "                except:\n",
    "                    print('*')\n",
    "                try:\n",
    "                    bloom_mask[i+1,j+1] = True\n",
    "                except:\n",
    "                    print('*')\n",
    "                try:\n",
    "                    bloom_mask[i+1,j-1] = True\n",
    "                except:\n",
    "                    print('*')\n",
    "                try:\n",
    "                    bloom_mask[i-1,j+1] = True\n",
    "                except:\n",
    "                    print('*')\n",
    "\n",
    "    return(bloom_mask)\n",
    "\n",
    "special_character_bloom_boolean_filter = create_bloom_matrix_from_edges(special_char_bool_mask)"
   ]
  },
  {
   "cell_type": "code",
   "execution_count": 10,
   "id": "7a9e5758-8a8e-4177-8b3b-65e943ef122f",
   "metadata": {
    "tags": []
   },
   "outputs": [
    {
     "data": {
      "text/plain": [
       "array([[ True,  True,  True, False, False,  True,  True,  True, False,\n",
       "        False],\n",
       "       [False, False, False, False, False, False, False, False, False,\n",
       "        False],\n",
       "       [False, False,  True,  True, False, False,  True,  True,  True,\n",
       "        False],\n",
       "       [False, False, False, False, False, False, False, False, False,\n",
       "        False],\n",
       "       [ True,  True,  True, False, False, False, False, False, False,\n",
       "        False],\n",
       "       [False, False, False, False, False, False, False,  True,  True,\n",
       "        False],\n",
       "       [False, False,  True,  True,  True, False, False, False, False,\n",
       "        False],\n",
       "       [False, False, False, False, False, False,  True,  True,  True,\n",
       "        False],\n",
       "       [False, False, False, False, False, False, False, False, False,\n",
       "        False],\n",
       "       [False,  True,  True,  True, False,  True,  True,  True, False,\n",
       "        False]])"
      ]
     },
     "execution_count": 10,
     "metadata": {},
     "output_type": "execute_result"
    }
   ],
   "source": [
    "num_bool_mask"
   ]
  },
  {
   "cell_type": "code",
   "execution_count": 11,
   "id": "609387f0-ba43-408c-9174-6f1629534705",
   "metadata": {
    "tags": []
   },
   "outputs": [],
   "source": [
    "from typing import Tuple, List\n",
    "\n",
    "# def get_number_tuples_from_bloom(special_character_bloom_boolean_filter: np.array\n",
    "#                                  , char_matrix: np.array\n",
    "#                                  , num_bool_mask:np.array) -> List[Tuple[int,bool]]:\n",
    "list_o_numbers = []\n",
    "str_num = ''\n",
    "truth_accumulator = False\n",
    "x, y = special_character_bloom_boolean_filter.shape\n",
    "for i in range(x):\n",
    "    for j in range(y):\n",
    "        if j < y-1:\n",
    "            if num_bool_mask[i, j] and num_bool_mask[i, j+1]:\n",
    "                truth_accumulator = truth_accumulator or special_character_bloom_boolean_filter[i,j]\n",
    "                str_num+=char_matrix[i,j]\n",
    "            if num_bool_mask[i, j] and not num_bool_mask[i, j+1]:\n",
    "                truth_accumulator = truth_accumulator or special_character_bloom_boolean_filter[i,j]\n",
    "                str_num+=char_matrix[i,j]\n",
    "                list_o_numbers.append((int(str_num), truth_accumulator))\n",
    "                str_num = ''\n",
    "                truth_accumulator = False\n",
    "                \n",
    "        else:\n",
    "            if str_num != '':\n",
    "                truth_accumulator = truth_accumulator or special_character_bloom_boolean_filter[i,j]\n",
    "                str_num+=char_matrix[i,j]\n",
    "                list_o_numbers.append((int(str_num), truth_accumulator))\n",
    "                str_num = ''\n",
    "                truth_accumulator = False\n",
    "                \n",
    "#     return list_o_numbers\n",
    "# list_o_numbers = get_number_tuples_from_bloom(special_character_bloom_boolean_filter\n",
    "#                                               , char_matrix\n",
    "#                                               , num_bool_mask)"
   ]
  },
  {
   "cell_type": "code",
   "execution_count": 12,
   "id": "46045b10-1822-40dd-a551-4c5a361da53c",
   "metadata": {
    "tags": []
   },
   "outputs": [
    {
     "data": {
      "text/plain": [
       "[(467, True),\n",
       " (114, False),\n",
       " (35, True),\n",
       " (633, True),\n",
       " (617, True),\n",
       " (58, False),\n",
       " (592, True),\n",
       " (755, True),\n",
       " (664, True),\n",
       " (598, True)]"
      ]
     },
     "execution_count": 12,
     "metadata": {},
     "output_type": "execute_result"
    }
   ],
   "source": [
    "list_o_numbers[-50:]"
   ]
  },
  {
   "cell_type": "markdown",
   "id": "53e421cf-7167-4faa-9038-a2202aad384e",
   "metadata": {},
   "source": [
    "#### quick sum where there's an overlap with \"bloomed\" truth values where there's a special character in the matrix"
   ]
  },
  {
   "cell_type": "code",
   "execution_count": 13,
   "id": "18ae792c-da71-46a7-a1b8-27435fdf125d",
   "metadata": {
    "tags": []
   },
   "outputs": [
    {
     "data": {
      "text/plain": [
       "4361"
      ]
     },
     "execution_count": 13,
     "metadata": {},
     "output_type": "execute_result"
    }
   ],
   "source": [
    "sum([num for num, boolean in list_o_numbers if boolean])"
   ]
  },
  {
   "cell_type": "markdown",
   "id": "272dcd7d-0be7-477e-81ff-6e5c52b9ce7d",
   "metadata": {},
   "source": [
    "### Now for the soluition?"
   ]
  }
 ],
 "metadata": {
  "environment": {
   "kernel": "conda-env-tensorflow-tensorflow",
   "name": "workbench-notebooks.m113",
   "type": "gcloud",
   "uri": "gcr.io/deeplearning-platform-release/workbench-notebooks:m113"
  },
  "kernelspec": {
   "display_name": "TensorFlow 2-11 (Local)",
   "language": "python",
   "name": "conda-env-tensorflow-tensorflow"
  },
  "language_info": {
   "codemirror_mode": {
    "name": "ipython",
    "version": 3
   },
   "file_extension": ".py",
   "mimetype": "text/x-python",
   "name": "python",
   "nbconvert_exporter": "python",
   "pygments_lexer": "ipython3",
   "version": "3.10.13"
  }
 },
 "nbformat": 4,
 "nbformat_minor": 5
}
