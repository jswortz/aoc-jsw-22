{
 "cells": [
  {
   "cell_type": "markdown",
   "metadata": {},
   "source": [
    "## Advent of Code 2023 Day 1\n",
    "https://adventofcode.com/2023/day/1"
   ]
  },
  {
   "cell_type": "code",
   "execution_count": 1,
   "metadata": {},
   "outputs": [],
   "source": [
    "# from data.one import test_input\n",
    "test_input = '''\n",
    "1abc2\n",
    "pqr3stu8vwx\n",
    "a1b2c3d4e5f\n",
    "treb7uchet\n",
    "'''"
   ]
  },
  {
   "cell_type": "code",
   "execution_count": 2,
   "metadata": {},
   "outputs": [
    {
     "name": "stdout",
     "output_type": "stream",
     "text": [
      "\n",
      "1abc2\n",
      "pqr3stu8vwx\n",
      "a1b2c3d4e5f\n",
      "treb7uchet\n"
     ]
    },
    {
     "data": {
      "text/plain": [
       "[[1, 2], [3, 8], [1, 2, 3, 4, 5], [7]]"
      ]
     },
     "execution_count": 2,
     "metadata": {},
     "output_type": "execute_result"
    }
   ],
   "source": [
    "int_list = []\n",
    "for line in test_input.splitlines():\n",
    "    print(line)\n",
    "    int_list.append([int(x) for x in line if x.isnumeric()])\n",
    "\n",
    "int_list = int_list[1:]\n",
    "int_list"
   ]
  },
  {
   "cell_type": "code",
   "execution_count": 3,
   "metadata": {},
   "outputs": [
    {
     "data": {
      "text/plain": [
       "[12, 38, 15, 77]"
      ]
     },
     "execution_count": 3,
     "metadata": {},
     "output_type": "execute_result"
    }
   ],
   "source": [
    "#get last and first numbers\n",
    "digits = [10*x[0] + x[-1] for x in int_list]\n",
    "digits"
   ]
  },
  {
   "cell_type": "code",
   "execution_count": 4,
   "metadata": {},
   "outputs": [
    {
     "data": {
      "text/plain": [
       "142"
      ]
     },
     "execution_count": 4,
     "metadata": {},
     "output_type": "execute_result"
    }
   ],
   "source": [
    "sum(digits)"
   ]
  },
  {
   "cell_type": "markdown",
   "metadata": {},
   "source": [
    "### --- Part Two ---"
   ]
  },
  {
   "cell_type": "code",
   "execution_count": 5,
   "metadata": {},
   "outputs": [],
   "source": [
    "test_input = '''\n",
    "two1nine\n",
    "eightwothree\n",
    "abcone2threexyz\n",
    "xtwone3four\n",
    "4nineeightseven2\n",
    "zoneight234\n",
    "7pqrstsixteen\n",
    "'''"
   ]
  },
  {
   "cell_type": "code",
   "execution_count": 6,
   "metadata": {},
   "outputs": [
    {
     "name": "stdout",
     "output_type": "stream",
     "text": [
      "2wo19ine\n",
      "8igh2wo3hree\n",
      "abc1ne23hreexyz\n",
      "x2w1ne34our\n",
      "49ine8ight7even2\n",
      "z1n8ight234\n",
      "7pqrst6ixteen\n"
     ]
    },
    {
     "data": {
      "text/plain": [
       "[]"
      ]
     },
     "execution_count": 6,
     "metadata": {},
     "output_type": "execute_result"
    }
   ],
   "source": [
    "list_o_string_numbers = [\n",
    "    ('one', 1),\n",
    "    ('two', 2),\n",
    "    ('three', 3),\n",
    "    ('four', 4),\n",
    "    ('five', 5),\n",
    "    ('six', 6),\n",
    "    ('seven', 7),\n",
    "    ('eight', 8),\n",
    "    ('nine', 9),\n",
    "    # ('zero', 0),\n",
    "]\n",
    "int_list = []\n",
    "string_map = []\n",
    "for line in test_input.splitlines():\n",
    "    for string_number, int_number in list_o_string_numbers:\n",
    "        if line.find(string_number) >= 0:\n",
    "            string_map.append((line.find(string_number),str(int_number)))\n",
    "            string_map.append((line.rfind(string_number),str(int_number))) #adding rfind to find the first instance reading from right\n",
    "    if len(string_map) > 0:\n",
    "        list_line = list(line)\n",
    "        for pos, num in string_map:\n",
    "            list_line[pos] = num\n",
    "        string_map = []\n",
    "        new_line = ''.join(list_line)\n",
    "        print(new_line)\n",
    "    else:\n",
    "        new_line = line\n",
    "    int_list.append([int(x) for x in new_line if x.isnumeric()])\n",
    "\n",
    "int_list = int_list[1:]\n",
    "int_list\n",
    "string_map"
   ]
  },
  {
   "cell_type": "code",
   "execution_count": 7,
   "metadata": {},
   "outputs": [
    {
     "data": {
      "text/plain": [
       "[29, 83, 13, 24, 42, 14, 76]"
      ]
     },
     "execution_count": 7,
     "metadata": {},
     "output_type": "execute_result"
    }
   ],
   "source": [
    "digits = [10*x[0] + x[-1] for x in int_list]\n",
    "digits  "
   ]
  },
  {
   "cell_type": "code",
   "execution_count": 8,
   "metadata": {},
   "outputs": [],
   "source": [
    "# sum(digits)"
   ]
  },
  {
   "cell_type": "code",
   "execution_count": null,
   "metadata": {},
   "outputs": [],
   "source": []
  }
 ],
 "metadata": {
  "kernelspec": {
   "display_name": "tensorflow",
   "language": "python",
   "name": "python3"
  },
  "language_info": {
   "codemirror_mode": {
    "name": "ipython",
    "version": 3
   },
   "file_extension": ".py",
   "mimetype": "text/x-python",
   "name": "python",
   "nbconvert_exporter": "python",
   "pygments_lexer": "ipython3",
   "version": "3.11.0"
  }
 },
 "nbformat": 4,
 "nbformat_minor": 2
}
