{
 "cells": [
  {
   "cell_type": "markdown",
   "metadata": {},
   "source": [
    "### AOC 2023 day 2\n",
    "https://adventofcode.com/2023/day/2"
   ]
  },
  {
   "cell_type": "code",
   "execution_count": 1,
   "metadata": {},
   "outputs": [],
   "source": [
    "from data.two import test_input\n",
    "test_input = '''Game 1: 3 blue, 4 red; 1 red, 2 green, 6 blue; 2 green\n",
    "Game 2: 1 blue, 2 green; 3 green, 4 blue, 1 red; 1 green, 1 blue\n",
    "Game 3: 8 green, 6 blue, 20 red; 5 blue, 4 red, 13 green; 5 green, 1 red\n",
    "Game 4: 1 green, 3 red, 6 blue; 3 green, 6 red; 3 green, 15 blue, 14 red\n",
    "Game 5: 6 red, 1 blue, 3 green; 2 blue, 1 red, 2 green\n",
    "'''"
   ]
  },
  {
   "cell_type": "code",
   "execution_count": 2,
   "metadata": {},
   "outputs": [],
   "source": [
    "# !pip install pandas --user"
   ]
  },
  {
   "cell_type": "code",
   "execution_count": 3,
   "metadata": {},
   "outputs": [
    {
     "data": {
      "text/plain": [
       "{1: {'runs': [{'red': 4, 'green': 0, 'blue': 3},\n",
       "   {'red': 1, 'green': 2, 'blue': 6},\n",
       "   {'red': 0, 'green': 2, 'blue': 0}],\n",
       "  'over_limit': False},\n",
       " 2: {'runs': [{'red': 0, 'green': 2, 'blue': 1},\n",
       "   {'red': 1, 'green': 3, 'blue': 4},\n",
       "   {'red': 0, 'green': 1, 'blue': 1}],\n",
       "  'over_limit': False},\n",
       " 3: {'runs': [{'red': 20, 'green': 8, 'blue': 6},\n",
       "   {'red': 4, 'green': 13, 'blue': 5},\n",
       "   {'red': 1, 'green': 5, 'blue': 0}],\n",
       "  'over_limit': True},\n",
       " 4: {'runs': [{'red': 3, 'green': 1, 'blue': 6},\n",
       "   {'red': 6, 'green': 3, 'blue': 0},\n",
       "   {'red': 14, 'green': 3, 'blue': 15}],\n",
       "  'over_limit': True},\n",
       " 5: {'runs': [{'red': 6, 'green': 3, 'blue': 1},\n",
       "   {'red': 1, 'green': 2, 'blue': 2}],\n",
       "  'over_limit': False}}"
      ]
     },
     "execution_count": 3,
     "metadata": {},
     "output_type": "execute_result"
    }
   ],
   "source": [
    "from typing import Dict, List\n",
    "import re\n",
    "import numpy as np\n",
    "import pandas as pd\n",
    "\n",
    "limit = [12, 13, 14] #rgb order\n",
    "\n",
    "\n",
    "#pt2 update - get the min\n",
    "def get_game_dict(data: str, limit: List[int]) -> Dict:\n",
    "    games_dict = {}\n",
    "    game_dict = {}\n",
    "    for line in data.splitlines():\n",
    "        game_key = line.split(\"Game \")[1].split(\":\")[0]\n",
    "        game_key = int(game_key)\n",
    "        run_list = []\n",
    "        game_runs = line.split(\":\")[1].split(\";\")\n",
    "        over_limit = False\n",
    "        for run in game_runs:\n",
    "            game_dict = {}\n",
    "            for i, color in enumerate(['red', 'green', 'blue']):\n",
    "                color_count = re.findall(f'(\\d+) {color}', run)\n",
    "                if len(color_count) > 0:\n",
    "                    color_count = int(color_count[0])\n",
    "                else:\n",
    "                    color_count = 0\n",
    "                over_limit = over_limit or color_count > limit[i]\n",
    "                game_dict.update({color: color_count})\n",
    "            run_list.append(game_dict)\n",
    "        games_dict.update({game_key: ({'runs': run_list\n",
    "                                      , 'over_limit': over_limit})})\n",
    "        run_list = []  \n",
    "        game_dict = {}\n",
    "    return(games_dict)\n",
    "\n",
    "games_dict = get_game_dict(test_input, limit)\n",
    "\n",
    "games_dict\n"
   ]
  },
  {
   "cell_type": "markdown",
   "metadata": {},
   "source": [
    "#### sum the runs\n",
    ":rocket:"
   ]
  },
  {
   "cell_type": "code",
   "execution_count": 4,
   "metadata": {},
   "outputs": [
    {
     "data": {
      "text/plain": [
       "[1, 2, 5]"
      ]
     },
     "execution_count": 4,
     "metadata": {},
     "output_type": "execute_result"
    }
   ],
   "source": [
    "feasible_games_ids = [k for k in games_dict.keys() if not games_dict[k]['over_limit']]\n",
    "feasible_games_ids"
   ]
  },
  {
   "cell_type": "code",
   "execution_count": 5,
   "metadata": {},
   "outputs": [
    {
     "data": {
      "text/plain": [
       "8"
      ]
     },
     "execution_count": 5,
     "metadata": {},
     "output_type": "execute_result"
    }
   ],
   "source": [
    "sum(feasible_games_ids)"
   ]
  },
  {
   "cell_type": "markdown",
   "metadata": {},
   "source": [
    "#### --- Part Two ---\n",
    "\n",
    "```\n",
    "The power of a set of cubes is equal to the numbers of red, green, and blue cubes multiplied together. The power of the minimum set of cubes in game 1 is 48. In games 2-5 it was 12, 1560, 630, and 36, respectively. Adding up these five powers produces the sum 2286.\n",
    "```\n",
    "\n",
    "**same as above**\n",
    "\n",
    "```sql\n",
    "Game 1: 3 blue, 4 red; 1 red, 2 green, 6 blue; 2 green\n",
    "Game 2: 1 blue, 2 green; 3 green, 4 blue, 1 red; 1 green, 1 blue\n",
    "Game 3: 8 green, 6 blue, 20 red; 5 blue, 4 red, 13 green; 5 green, 1 red\n",
    "Game 4: 1 green, 3 red, 6 blue; 3 green, 6 red; 3 green, 15 blue, 14 red\n",
    "Game 5: 6 red, 1 blue, 3 green; 2 blue, 1 red, 2 green\n",
    "```"
   ]
  },
  {
   "cell_type": "code",
   "execution_count": 6,
   "metadata": {},
   "outputs": [
    {
     "data": {
      "text/plain": [
       "{1: {'runs': [{'red': 4, 'green': 0, 'blue': 3},\n",
       "   {'red': 1, 'green': 2, 'blue': 6},\n",
       "   {'red': 0, 'green': 2, 'blue': 0}],\n",
       "  'over_limit': False},\n",
       " 2: {'runs': [{'red': 0, 'green': 2, 'blue': 1},\n",
       "   {'red': 1, 'green': 3, 'blue': 4},\n",
       "   {'red': 0, 'green': 1, 'blue': 1}],\n",
       "  'over_limit': False},\n",
       " 3: {'runs': [{'red': 20, 'green': 8, 'blue': 6},\n",
       "   {'red': 4, 'green': 13, 'blue': 5},\n",
       "   {'red': 1, 'green': 5, 'blue': 0}],\n",
       "  'over_limit': True},\n",
       " 4: {'runs': [{'red': 3, 'green': 1, 'blue': 6},\n",
       "   {'red': 6, 'green': 3, 'blue': 0},\n",
       "   {'red': 14, 'green': 3, 'blue': 15}],\n",
       "  'over_limit': True},\n",
       " 5: {'runs': [{'red': 6, 'green': 3, 'blue': 1},\n",
       "   {'red': 1, 'green': 2, 'blue': 2}],\n",
       "  'over_limit': False}}"
      ]
     },
     "execution_count": 6,
     "metadata": {},
     "output_type": "execute_result"
    }
   ],
   "source": [
    "# Get the max of the number of cubes for each run by game:\n",
    "\n",
    "games_dict"
   ]
  },
  {
   "cell_type": "code",
   "execution_count": 7,
   "metadata": {},
   "outputs": [],
   "source": [
    "colors = ['red', 'green', 'blue']\n",
    "game_powers = []\n",
    "for k in games_dict.keys():\n",
    "    runs = games_dict[k]['runs']\n",
    "    df = pd.DataFrame(runs)\n",
    "    max_values = df.apply(np.max, axis=0).values\n",
    "    game_power = np.prod(max_values)\n",
    "    game_powers.append(game_power)"
   ]
  },
  {
   "cell_type": "code",
   "execution_count": 8,
   "metadata": {},
   "outputs": [
    {
     "data": {
      "text/plain": [
       "[48, 12, 1560, 630, 36]"
      ]
     },
     "execution_count": 8,
     "metadata": {},
     "output_type": "execute_result"
    }
   ],
   "source": [
    "game_powers"
   ]
  },
  {
   "cell_type": "code",
   "execution_count": 9,
   "metadata": {},
   "outputs": [
    {
     "data": {
      "text/plain": [
       "2286"
      ]
     },
     "execution_count": 9,
     "metadata": {},
     "output_type": "execute_result"
    }
   ],
   "source": [
    "sum(game_powers)"
   ]
  }
 ],
 "metadata": {
  "kernelspec": {
   "display_name": "tensorflow",
   "language": "python",
   "name": "python3"
  },
  "language_info": {
   "codemirror_mode": {
    "name": "ipython",
    "version": 3
   },
   "file_extension": ".py",
   "mimetype": "text/x-python",
   "name": "python",
   "nbconvert_exporter": "python",
   "pygments_lexer": "ipython3",
   "version": "3.11.0"
  }
 },
 "nbformat": 4,
 "nbformat_minor": 2
}
